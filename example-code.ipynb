{
 "nbformat": 4,
 "nbformat_minor": 0,
 "metadata": {
  "colab": {
   "name": "ExtractTable - Advanced Code Usage.ipynb",
   "provenance": [],
   "collapsed_sections": []
  },
  "kernelspec": {
   "name": "python3",
   "display_name": "Python 3"
  }
 },
 "cells": [
  {
   "cell_type": "markdown",
   "metadata": {
    "collapsed": false,
    "id": "BnYb9aztB48u",
    "colab_type": "text"
   },
   "source": [
    "<a href=\"https://colab.research.google.com/github/ExtractTable/ExtractTable-py/blob/master/example-code.ipynb\" target=\"_parent\"><img src=\"https://colab.research.google.com/assets/colab-badge.svg\" alt=\"Open In Colab\"/></a>"
   ]
  },
  {
   "cell_type": "code",
   "metadata": {
    "id": "NhVhMrQ0ZdQr",
    "colab_type": "code",
    "colab": {}
   },
   "source": [
    "!pip install ExtractTable"
   ],
   "execution_count": 0,
   "outputs": []
  },
  {
   "cell_type": "code",
   "metadata": {
    "id": "2aIaghfeZnQr",
    "colab_type": "code",
    "colab": {}
   },
   "source": [
    "from ExtractTable import ExtractTable"
   ],
   "execution_count": 0,
   "outputs": []
  },
  {
   "cell_type": "code",
   "metadata": {
    "id": "LJL_ZyYzZsFY",
    "colab_type": "code",
    "colab": {}
   },
   "source": [
    "api_key = YOUR_APIKEY_HERE"
   ],
   "execution_count": 0,
   "outputs": []
  },
  {
   "cell_type": "markdown",
   "metadata": {
    "id": "bwtpzTJxZHRi",
    "colab_type": "text"
   },
   "source": [
    "**Create Session** with your API Key"
   ]
  },
  {
   "cell_type": "code",
   "metadata": {
    "id": "Bfw5GTNvZGv8",
    "colab_type": "code",
    "colab": {}
   },
   "source": [
    "et_sess = ExtractTable(api_key)"
   ],
   "execution_count": 0,
   "outputs": []
  },
  {
   "cell_type": "markdown",
   "metadata": {
    "id": "On4_X8v3Zk3v",
    "colab_type": "text"
   },
   "source": [
    "**Validate** the Key and check the plan usage"
   ]
  },
  {
   "cell_type": "code",
   "metadata": {
    "id": "a7EPvvvMZ0Ub",
    "colab_type": "code",
    "colab": {}
   },
   "source": [
    "usage = et_sess.check_usage()"
   ],
   "execution_count": 0,
   "outputs": []
  },
  {
   "cell_type": "markdown",
   "metadata": {
    "id": "sovuclERjRqy",
    "colab_type": "text"
   },
   "source": [
    "*If there is no error encountered in the above cell, it means we have a valid API key. Now, get started by checking the usage and trigger the file for processing*"
   ]
  },
  {
   "cell_type": "code",
   "metadata": {
    "id": "HT97IP8MZ9WF",
    "colab_type": "code",
    "outputId": "b5dfbc96-5ce8-4461-c988-6b17e58a1448",
    "colab": {
     "base_uri": "https://localhost:8080/",
     "height": 34
    }
   },
   "source": [
    "print(usage)"
   ],
   "execution_count": 0,
   "outputs": [
    {
     "output_type": "stream",
     "text": [
      "{'credits': 500, 'queued': 0, 'used': 132}\n"
     ],
     "name": "stdout"
    }
   ]
  },
  {
   "cell_type": "markdown",
   "metadata": {
    "id": "-XqbBoB-i3pi",
    "colab_type": "text"
   },
   "source": [
    "**credits**: Total number credits attached to the API Key\n",
    "\n",
    "**queued** : Number of triggered jobs that are still processing in the queue\n",
    "\n",
    "**used**   : Number of credits already used "
   ]
  },
  {
   "cell_type": "code",
   "metadata": {
    "id": "P_xzVgHmZ9sw",
    "colab_type": "code",
    "colab": {}
   },
   "source": [
    "# filepath = \"image_path_or_image_url_with_tables\"\n",
    "# filepath = r'samples/BlurryImage.jpg'\n",
    "filepath = \"https://raw.githubusercontent.com/ExtractTable/ExtractTable-py/master/samples/QualityImage.jpg\""
   ],
   "execution_count": 0,
   "outputs": []
  },
  {
   "cell_type": "markdown",
   "metadata": {
    "id": "oUnBFxYiZ1Ka",
    "colab_type": "text"
   },
   "source": [
    "**Trigger** the process to extract tabular data from the file"
   ]
  },
  {
   "cell_type": "code",
   "metadata": {
    "id": "3H9jzk6wJ5-V",
    "colab_type": "code",
    "colab": {}
   },
   "source": [
    "table_data = et_sess.process_file(filepath=Location_of_PDF_with_Tables)"
   ],
   "execution_count": 0,
   "outputs": []
  },
  {
   "cell_type": "markdown",
   "metadata": {
    "id": "k98KTihPJwyO",
    "colab_type": "text"
   },
   "source": [
    "<ins>Note</ins>: To <ins>process a PDF</ins>, use **pages** params in the read_pdf function, as shown below\n",
    "```python \n",
    "table_data = et_sess.process_file(filepath=Location_of_PDF_with_Tables, pages=\"all\")\n",
    "```\n",
    "Below are the sample values ```pages``` accepts\n",
    "\n",
    "* pages = \"2\" - considers only 2nd page of the PDF\n",
    "* pages = \"1,3,5\" - considers only 1st, 3rd and 5th page of the PDF\n",
    "* pages = \"1, 3-5\" - considers 1st, 3rd, 4th and 5th page of the PDF\n",
    "* pages = \"all\" - considers complete PDF"
   ]
  },
  {
   "cell_type": "markdown",
   "metadata": {
    "id": "Th12lbKfJhu9",
    "colab_type": "text"
   },
   "source": [
    "> By default, the `process_file()` returns **only** the table data"
   ]
  },
  {
   "cell_type": "markdown",
   "metadata": {
    "id": "HNZ8ieKNH5db",
    "colab_type": "text"
   },
   "source": [
    "> **Explore** all objects of the latest file processing with `et_sess.__dict__.keys()` - Depends on the plan type of your API Key"
   ]
  },
  {
   "cell_type": "code",
   "metadata": {
    "id": "aDUaDyX8IGmK",
    "colab_type": "code",
    "outputId": "e22422ca-b27d-405f-c263-a92898c010ea",
    "colab": {
     "base_uri": "https://localhost:8080/",
     "height": 34
    }
   },
   "source": [
    "et_sess.__dict__.keys()"
   ],
   "execution_count": 0,
   "outputs": [
    {
     "output_type": "execute_result",
     "data": {
      "text/plain": [
       "dict_keys(['api_key', '_session', 'ServerResponse', 'JobStatus', 'Lines', 'Pages', 'Tables'])"
      ]
     },
     "metadata": {
      "tags": []
     },
     "execution_count": 14
    }
   ]
  },
  {
   "cell_type": "code",
   "metadata": {
    "id": "QYwnBXwQJ9D9",
    "colab_type": "code",
    "outputId": "5fee31e6-a38b-43a4-9297-8f1a920ad87e",
    "colab": {
     "base_uri": "https://localhost:8080/",
     "height": 68
    }
   },
   "source": [
    "# Access the class objects as you want\n",
    "print(\"Number of pages processed in this job:\", et_sess.Pages)\n",
    "print(\"Number of tables found in this job:\", len(et_sess.Tables))\n",
    "# print(\"Number of lines in the first page of this job:\", len(et_sess.Lines[0]['LineArray']))\n",
    "\n",
    "# et_sess.Tables\n",
    "# et_sess.Lines\n"
   ],
   "execution_count": 0,
   "outputs": [
    {
     "output_type": "stream",
     "text": [
      "Number of pages processed in this job: 1\n",
      "Number of tables found in this job: 1\n",
      "Number of lines in the first page of this job: 42\n"
     ],
     "name": "stdout"
    }
   ]
  },
  {
   "cell_type": "markdown",
   "metadata": {
    "id": "KbIJ9kpqFxRu",
    "colab_type": "text"
   },
   "source": [
    "> **Understand the output**: The response of a triggered job is a JSON object in the below format. Note that the response depends on the plan type of the API Key.\n",
    "\n",
    "```javascript\n",
    "{\n",
    "    \"JobStatus\": <string>,                              # Status of the triggered Process  @ JOB-LEVEL\n",
    "    \"Pages\": <integer>,                                 # Number of pages processed in this request @ PAGE-LEVEL\n",
    "    \"Tables\": [<list of key-value objects of table>     # List of all tables found @ TABLE-LEVEL\n",
    "        {\n",
    "            \"Page\": <integer>,                              ## Page number in which this table is found\n",
    "            \"CharacterConfidence\": <float>,                 ## Accuracy of Characters recognized from the input-page\n",
    "            \"LayoutConfidence\": <float>,                    ## Accuracy of table layout's design decision\n",
    "            \"TableJson\": <dict>,                            ## Table Cell Text in key-value format with index orientation - {row#: {col#: <str>}}\n",
    "            \"TableCoordinates\": <dict>,                     ## Top-left & Bottom-right Cell Coordinates - {row#: {col#: <list(x1,y1,x2,y2)>}}\n",
    "            \"TableConfidence\": <dict>                       ## Cell level accuracy of detected characters - {row#: {col#: <float>}}\n",
    "        },\n",
    "    {...}                                               ## ... more \"Tables\" objects\n",
    "    ],\n",
    "    \"Lines\": [<list of key-value objects>               # Pagewise Line details @ PAGE-LEVEL\n",
    "        {\n",
    "            \"Page\": <integer>,                          # Page number in which the lines are found\n",
    "            \"CharacterConfidence\": <float>,             # Average Accuracy of all Characters recognized from the input-page\n",
    "            \"LinesArray\": [\n",
    "                <list of key-value objects of line>     # Ordered list of lines in this page @ LINE-LEVEL\n",
    "                {\n",
    "                    \"Line\": <str>,                          ## Detected text of the complete line\n",
    "                    \"WordsArray\": [\n",
    "                        <list of key-value objects>         ## Word level datails in this line @ WORD-LEVEL\n",
    "                        {\n",
    "                            \"Conf\": <float>,                    ### Accuracy of recognized characters of the word\n",
    "                            \"Word\": <str>,                      ### Detected text of the word\n",
    "                            \"Loc\": [x1, y1, x2, y2]             ### Top-left & Bottom-right coordinates, w.r.t the input-page width-height dimensions\n",
    "                        },\n",
    "                    {...}                                   ### More \"WordsArray\" objects\n",
    "                    ]\n",
    "                },\n",
    "            {...}                                       ## More \"LinesArray\" objects\n",
    "            ]\n",
    "        },\n",
    "    {...}                                               # More Pagewise \"Lines\" details\n",
    "    ]\n",
    "}\n",
    "```"
   ]
  },
  {
   "cell_type": "code",
   "metadata": {
    "id": "XrXBfENfZ2AI",
    "colab_type": "code",
    "outputId": "6c12b493-b774-4687-f44e-1f1731f7ce43",
    "colab": {
     "base_uri": "https://localhost:8080/",
     "height": 170
    }
   },
   "source": [
    "table_data     # Notice the default output is a pandas dataframe"
   ],
   "execution_count": 0,
   "outputs": [
    {
     "output_type": "execute_result",
     "data": {
      "text/plain": [
       "[          0                           1  ...      5                   6\n",
       " 0  FLC Code                   Room Name  ...  W (m)  Ceiling Height (m)\n",
       " 1   RGOOTO1  Indigenous Support Officer  ...    7.3                 2.7\n",
       " 2   RGOOTO2         Instrum. Music Room  ...    7.3                 2.7\n",
       " 3   RGOTO1A                    Verandah  ...    1.7                 3.0\n",
       " 4   RGOTO1B              Eastern Stairs  ...    1.7                 N/A\n",
       " 5   RGOTO2B              Western Stairs  ...    1.0                 N/A\n",
       " \n",
       " [6 rows x 7 columns]]"
      ]
     },
     "metadata": {
      "tags": []
     },
     "execution_count": 22
    }
   ]
  },
  {
   "cell_type": "markdown",
   "metadata": {
    "id": "ie9D1umMEv6D",
    "colab_type": "text"
   },
   "source": [
    "Default output is an array of pandas dataframes, with which you can change to any other format, follow https://pandas.pydata.org/pandas-docs/stable/reference/api/pandas.DataFrame.html"
   ]
  },
  {
   "cell_type": "code",
   "metadata": {
    "id": "_CVAYfnK_sTk",
    "colab_type": "code",
    "colab": {}
   },
   "source": [
    "# If your API Key supports \"Lines\" - Sample to get Lines\n",
    "\n",
    "all_page_lines = []\n",
    "for each_page in et_sess.Lines:\n",
    "  for each_line in each_page['LinesArray']:\n",
    "    all_page_lines.append(each_line['Line'])"
   ],
   "execution_count": 0,
   "outputs": []
  },
  {
   "cell_type": "markdown",
   "metadata": {
    "id": "TYLfNBQ6bL64",
    "colab_type": "text"
   },
   "source": [
    "Play with the <ins>result</ins>:\n",
    "- check the complete server response of the latest job with `et_sess.ServerResponse.json()`\n",
    "- check out list of available output formats of table `ExtractTable._OUTPUT_FORMATS`\n",
    "- Retrieve the result as long as the `JobId` is unexpired, usually stays for 24 hours\n",
    "  - ```job_output = et_sess.get_result(job_id=JobID_HERE)```"
   ]
  },
  {
   "cell_type": "markdown",
   "metadata": {
    "collapsed": false,
    "id": "yRsqFlIvB4-D",
    "colab_type": "text"
   },
   "source": [
    "## Social Media\n",
    "Follow us on Social media for library updates and free credits.\n",
    "\n",
    "[![Image](https://cdn3.iconfinder.com/data/icons/socialnetworking/32/linkedin.png)](https://www.linkedin.com/company/extracttable)\n",
    "&nbsp;&nbsp;&nbsp;&nbsp;\n",
    "[![Image](https://abs.twimg.com/favicons/twitter.ico)](https://twitter.com/extracttable)"
   ]
  }
 ]
}