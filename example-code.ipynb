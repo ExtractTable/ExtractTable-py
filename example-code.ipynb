{
 "nbformat": 4,
 "nbformat_minor": 0,
 "metadata": {
  "colab": {
   "name": "ExtractTable - Advanced Code Usage.ipynb",
   "provenance": [],
   "collapsed_sections": []
  },
  "kernelspec": {
   "name": "python3",
   "display_name": "Python 3"
  },
  "pycharm": {
   "stem_cell": {
    "cell_type": "raw",
    "source": [],
    "metadata": {
     "collapsed": false
    }
   }
  }
 },
 "cells": [
  {
   "cell_type": "markdown",
   "source": [
    "<a href=\"https://colab.research.google.com/github/ExtractTable/ExtractTable-py/blob/master/example-code.ipynb\" target=\"_parent\"><img src=\"https://colab.research.google.com/assets/colab-badge.svg\" alt=\"Open In Colab\"/></a>"
   ],
   "metadata": {
    "collapsed": false
   }
  },
  {
   "cell_type": "code",
   "metadata": {
    "id": "NhVhMrQ0ZdQr",
    "colab_type": "code",
    "colab": {}
   },
   "source": [
    "# !pip install -U ExtractTable"
   ],
   "execution_count": 0,
   "outputs": []
  },
  {
   "cell_type": "code",
   "metadata": {
    "id": "2aIaghfeZnQr",
    "colab_type": "code",
    "colab": {}
   },
   "source": [
    "from ExtractTable import *"
   ],
   "execution_count": 0,
   "outputs": []
  },
  {
   "cell_type": "code",
   "metadata": {
    "id": "LJL_ZyYzZsFY",
    "colab_type": "code",
    "colab": {}
   },
   "source": [
    "api_key = YOUR_APIKEY_HERE"
   ],
   "execution_count": 0,
   "outputs": []
  },
  {
   "cell_type": "markdown",
   "metadata": {
    "id": "bwtpzTJxZHRi",
    "colab_type": "text"
   },
   "source": [
    "**Create Session** with your API Key"
   ]
  },
  {
   "cell_type": "code",
   "metadata": {
    "id": "Bfw5GTNvZGv8",
    "colab_type": "code",
    "colab": {}
   },
   "source": [
    "et_sess = ExtractTable(api_key)"
   ],
   "execution_count": 0,
   "outputs": []
  },
  {
   "cell_type": "markdown",
   "metadata": {
    "id": "On4_X8v3Zk3v",
    "colab_type": "text"
   },
   "source": [
    "**Validate** the Key and check the plan usage"
   ]
  },
  {
   "cell_type": "code",
   "metadata": {
    "id": "a7EPvvvMZ0Ub",
    "colab_type": "code",
    "colab": {}
   },
   "source": [
    "usage = et_sess.check_usage()"
   ],
   "execution_count": 0,
   "outputs": []
  },
  {
   "cell_type": "markdown",
   "metadata": {
    "id": "sovuclERjRqy",
    "colab_type": "text"
   },
   "source": [
    "*If there is no error encountered in the above cell, it means we have a valid API key. Now, get started by checking the usage and trigger the file for processing*"
   ]
  },
  {
   "cell_type": "code",
   "metadata": {
    "id": "HT97IP8MZ9WF",
    "colab_type": "code",
    "colab": {
     "base_uri": "https://localhost:8080/",
     "height": 34
    },
    "outputId": "65f9eb37-cdec-425f-905f-c38c7d778892"
   },
   "source": [
    "print(usage)"
   ],
   "execution_count": 6,
   "outputs": [
    {
     "output_type": "stream",
     "text": [
      "{'credits': 1000, 'queued': 2, 'used': 533}\n"
     ],
     "name": "stdout"
    }
   ]
  },
  {
   "cell_type": "markdown",
   "metadata": {
    "id": "-XqbBoB-i3pi",
    "colab_type": "text"
   },
   "source": [
    "**credits**: Total number credits attached to the API Key\n",
    "\n",
    "**queued** : Number of triggered jobs that were left \"IN_PROGRESS\", not yet retrieved\n",
    "\n",
    "**used**   : Number of credits already used "
   ]
  },
  {
   "cell_type": "markdown",
   "metadata": {
    "id": "oUnBFxYiZ1Ka",
    "colab_type": "text"
   },
   "source": [
    "**Trigger** the process to extract tabular data from the file"
   ]
  },
  {
   "cell_type": "code",
   "metadata": {
    "id": "P_xzVgHmZ9sw",
    "colab_type": "code",
    "colab": {}
   },
   "source": [
    "filepath = r'testimages/chervolet.jpg'\n",
    "table_data = et_sess.process_file(filepath)"
   ],
   "execution_count": 0,
   "outputs": []
  },
  {
   "cell_type": "code",
   "metadata": {
    "id": "XrXBfENfZ2AI",
    "colab_type": "code",
    "colab": {
     "base_uri": "https://localhost:8080/",
     "height": 255
    },
    "outputId": "5b97dec4-a399-44d9-c087-f86430b295e5"
   },
   "source": [
    "table_data     # Notice the default output is a pandas dataframe"
   ],
   "execution_count": 13,
   "outputs": [
    {
     "output_type": "execute_result",
     "data": {
      "text/plain": [
       "[            0         1      2        3              4\n",
       " 0      vendor     Model  Price  Mileage       VIN Code\n",
       " 1   Chevrolet  Corvette  17226  25965.0    ILLAKAWAZDZ\n",
       " 2   Chevrolet  Corvette  34229  46429.0    RCPNSRYGXON\n",
       " 3   Chevrolet  Corvette  27982  50209.0    NWLGCEVEHGI\n",
       " 4   Chevrolet  Corvette  51825  72998.0    NGVZSCIZGSM\n",
       " 5   Chevrolet  Corvette  52845  34364.0    PSDRUYYOIJG\n",
       " 6   Chevrolet    Malibu  37874  37273.0    VLFPQPWNEFD\n",
       " 7   Chevrolet    Malibu  15600  71441.0     EXLJGDWOZS\n",
       " 8   Chevrolet    Malibu  52447  46700.0    NLMGJZAKBRD\n",
       " 9   Chevrolet    Malibu  27129  36254.0  OIPFUIENLEHS)\n",
       " 10  Chevrolet    Malibu  28846  77162.0    WRCOOFREZLL\n",
       " 11  Chevrolet    Malibu  46165  60590.0   HUFTTHQHSFJF\n",
       " 12  Chevrolet    Malibu  18263   377900      MHNAFSHVD]"
      ]
     },
     "metadata": {
      "tags": []
     },
     "execution_count": 13
    }
   ]
  },
  {
   "cell_type": "markdown",
   "metadata": {
    "id": "TYLfNBQ6bL64",
    "colab_type": "text"
   },
   "source": [
    "**Whatelse** is in the store.\n",
    "- check the latest Actual ServerResponse attached to the session with `et_sess.ServerResponse.json()`\n",
    "- check out list of available output formats `ExtractTable._OUTPUT`"
   ]
  },
  {
   "cell_type": "markdown",
   "metadata": {
    "id": "znSqvSJbd2hv",
    "colab_type": "text"
   },
   "source": [
    "Check the **latest ServerResponse** in the processs"
   ]
  },
  {
   "cell_type": "code",
   "metadata": {
    "id": "cChDS1g3ds0U",
    "colab_type": "code",
    "colab": {}
   },
   "source": [
    "et_sess.ServerResponse.json()"
   ],
   "execution_count": 0,
   "outputs": []
  },
  {
   "cell_type": "markdown",
   "metadata": {
    "id": "Fwu-Cn7vbEMo",
    "colab_type": "text"
   },
   "source": [
    "Check out the list of all **available output formats**"
   ]
  },
  {
   "cell_type": "code",
   "metadata": {
    "id": "lMlTzUsIbpx4",
    "colab_type": "code",
    "colab": {
     "base_uri": "https://localhost:8080/",
     "height": 34
    },
    "outputId": "68ed73b1-69a4-4f16-e909-d69409e508bd"
   },
   "source": [
    "ExtractTable._OUTPUT_FORMATS"
   ],
   "execution_count": 16,
   "outputs": [
    {
     "output_type": "execute_result",
     "data": {
      "text/plain": [
       "{'csv', 'dataframe', 'df', 'dict', 'json'}"
      ]
     },
     "metadata": {
      "tags": []
     },
     "execution_count": 16
    }
   ]
  },
  {
   "cell_type": "code",
   "metadata": {
    "id": "glsrlvpydZaz",
    "colab_type": "code",
    "colab": {}
   },
   "source": [],
   "execution_count": 0,
   "outputs": []
  },
  {
   "cell_type": "markdown",
   "source": [
    "# Social Media\n",
    "Follow us on Social media for library updates and free credits.\n",
    "\n",
    "[![Image](https://cdn3.iconfinder.com/data/icons/socialnetworking/32/linkedin.png)](https://www.linkedin.com/company/extracttable)\n",
    "&nbsp;&nbsp;&nbsp;&nbsp;\n",
    "[![Image](https://abs.twimg.com/favicons/twitter.ico)](https://twitter.com/extracttable)"
   ],
   "metadata": {
    "collapsed": false
   }
  }
 ]
}